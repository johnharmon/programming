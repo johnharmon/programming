{
 "cells": [
  {
   "cell_type": "code",
   "execution_count": 1,
   "id": "12614d37-1b83-4442-a99a-33a521733037",
   "metadata": {
    "tags": []
   },
   "outputs": [],
   "source": [
    "import os"
   ]
  },
  {
   "cell_type": "code",
   "execution_count": 4,
   "id": "4c8d13db-3b8d-4d4f-9631-c102effa4d06",
   "metadata": {
    "tags": []
   },
   "outputs": [
    {
     "data": {
      "text/plain": [
       "os.stat_result(st_mode=33188, st_ino=2150070654, st_dev=64770, st_nlink=1, st_uid=1000, st_gid=1000, st_size=15501, st_atime=1692925658, st_mtime=1689976973, st_ctime=1689979393)"
      ]
     },
     "execution_count": 4,
     "metadata": {},
     "output_type": "execute_result"
    }
   ],
   "source": [
    "os.stat('/home/jharmon/.bashrc')"
   ]
  },
  {
   "cell_type": "code",
   "execution_count": 3,
   "id": "8ee2cc72-71ca-4be3-8e8e-0e3a09b1c783",
   "metadata": {
    "tags": []
   },
   "outputs": [
    {
     "name": "stdout",
     "output_type": "stream",
     "text": [
      "Help on built-in function fstat in module posix:\n",
      "\n",
      "fstat(fd)\n",
      "    Perform a stat system call on the given file descriptor.\n",
      "    \n",
      "    Like stat(), but for an open file descriptor.\n",
      "    Equivalent to os.stat(fd).\n",
      "\n"
     ]
    }
   ],
   "source": [
    "help(os.fstat)"
   ]
  },
  {
   "cell_type": "code",
   "execution_count": null,
   "id": "3c6e6739-d885-480f-8747-7761840ae649",
   "metadata": {},
   "outputs": [],
   "source": []
  }
 ],
 "metadata": {
  "kernelspec": {
   "display_name": "Python 3 (ipykernel)",
   "language": "python",
   "name": "python3"
  },
  "language_info": {
   "codemirror_mode": {
    "name": "ipython",
    "version": 3
   },
   "file_extension": ".py",
   "mimetype": "text/x-python",
   "name": "python",
   "nbconvert_exporter": "python",
   "pygments_lexer": "ipython3",
   "version": "3.11.3"
  }
 },
 "nbformat": 4,
 "nbformat_minor": 5
}
