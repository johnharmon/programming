{
 "cells": [
  {
   "cell_type": "code",
   "execution_count": 2,
   "id": "d8d8e89b-00d2-4558-b1d1-d46672200916",
   "metadata": {},
   "outputs": [],
   "source": [
    "import pandas\n"
   ]
  },
  {
   "cell_type": "code",
   "execution_count": 3,
   "id": "c098ae0c-f872-4f8b-a180-3b57e0e5ec8f",
   "metadata": {
    "tags": []
   },
   "outputs": [],
   "source": [
    "import numpy "
   ]
  },
  {
   "cell_type": "code",
   "execution_count": 4,
   "id": "fe5e72f2-f7e9-4d71-ba43-77a0804f1349",
   "metadata": {
    "tags": []
   },
   "outputs": [
    {
     "ename": "ModuleNotFoundError",
     "evalue": "No module named 'tisms'",
     "output_type": "error",
     "traceback": [
      "\u001b[0;31m---------------------------------------------------------------------------\u001b[0m",
      "\u001b[0;31mModuleNotFoundError\u001b[0m                       Traceback (most recent call last)",
      "Cell \u001b[0;32mIn[4], line 1\u001b[0m\n\u001b[0;32m----> 1\u001b[0m \u001b[38;5;28;01mimport\u001b[39;00m \u001b[38;5;21;01mtisms\u001b[39;00m\n",
      "\u001b[0;31mModuleNotFoundError\u001b[0m: No module named 'tisms'"
     ]
    }
   ],
   "source": [
    "import tisms"
   ]
  },
  {
   "cell_type": "code",
   "execution_count": 5,
   "id": "bc8d3c53-c5d8-4966-b896-39f09fd20d58",
   "metadata": {
    "tags": []
   },
   "outputs": [
    {
     "data": {
      "text/plain": [
       "<IPython.core.autocall.ZMQExitAutocall at 0x7f03cba14290>"
      ]
     },
     "execution_count": 5,
     "metadata": {},
     "output_type": "execute_result"
    }
   ],
   "source": [
    "exit\n",
    " "
   ]
  },
  {
   "cell_type": "code",
   "execution_count": 6,
   "id": "f598f3bd-772b-4fbc-9ba7-17a959c8e8f8",
   "metadata": {
    "tags": []
   },
   "outputs": [
    {
     "name": "stdout",
     "output_type": "stream",
     "text": [
      "but i dn not want errors\n"
     ]
    }
   ],
   "source": [
    "print('but i dn not want errors')\n"
   ]
  },
  {
   "cell_type": "code",
   "execution_count": 7,
   "id": "df1e5175-22d1-49c7-b9ab-7d1c13eb3be0",
   "metadata": {},
   "outputs": [
    {
     "name": "stdout",
     "output_type": "stream",
     "text": [
      "hello?\n"
     ]
    }
   ],
   "source": [
    "print('hello?')\n"
   ]
  },
  {
   "cell_type": "code",
   "execution_count": null,
   "id": "d51cca22-b6d4-4787-905e-b6d6afb6cd28",
   "metadata": {},
   "outputs": [],
   "source": []
  }
 ],
 "metadata": {
  "kernelspec": {
   "display_name": "Python 3 (ipykernel)",
   "language": "python",
   "name": "python3"
  },
  "language_info": {
   "codemirror_mode": {
    "name": "ipython",
    "version": 3
   },
   "file_extension": ".py",
   "mimetype": "text/x-python",
   "name": "python",
   "nbconvert_exporter": "python",
   "pygments_lexer": "ipython3",
   "version": "3.11.3"
  }
 },
 "nbformat": 4,
 "nbformat_minor": 5
}
