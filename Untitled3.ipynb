{
 "cells": [
  {
   "cell_type": "code",
   "execution_count": 49,
   "id": "bb3229fb-9d98-48f6-9887-bbca2340e3d3",
   "metadata": {
    "tags": []
   },
   "outputs": [
    {
     "name": "stdout",
     "output_type": "stream",
     "text": [
      "<class 'function'>\n",
      "10\n",
      "<class 'function'>\n"
     ]
    },
    {
     "data": {
      "text/plain": [
       "11"
      ]
     },
     "execution_count": 49,
     "metadata": {},
     "output_type": "execute_result"
    }
   ],
   "source": [
    "import inspect\n",
    "def my_dec(func):\n",
    "    def wrp():\n",
    "        total = func()+1\n",
    "        return total\n",
    "    return wrp\n",
    "\n",
    "@my_dec\n",
    "def add_numbers(a = 5,b = 4):\n",
    "    return a + b\n",
    "\n",
    "print(type(add_numbers))\n",
    "x = add_numbers()\n",
    "print(x)\n",
    "\n",
    "z = my_dec(add_numbers)\n",
    "print(type(z))\n",
    "z()"
   ]
  },
  {
   "cell_type": "code",
   "execution_count": null,
   "id": "9c0d0afd-609b-4a4f-91c8-86d0c3e147c6",
   "metadata": {},
   "outputs": [],
   "source": []
  }
 ],
 "metadata": {
  "kernelspec": {
   "display_name": "Python 3 (ipykernel)",
   "language": "python",
   "name": "python3"
  },
  "language_info": {
   "codemirror_mode": {
    "name": "ipython",
    "version": 3
   },
   "file_extension": ".py",
   "mimetype": "text/x-python",
   "name": "python",
   "nbconvert_exporter": "python",
   "pygments_lexer": "ipython3",
   "version": "3.11.3"
  }
 },
 "nbformat": 4,
 "nbformat_minor": 5
}
