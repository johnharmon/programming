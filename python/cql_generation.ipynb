{
 "cells": [
  {
   "cell_type": "code",
   "execution_count": 1,
   "metadata": {},
   "outputs": [],
   "source": [
    "import requests, re\n",
    "import getpass\n",
    "import typing"
   ]
  },
  {
   "cell_type": "code",
   "execution_count": 8,
   "metadata": {},
   "outputs": [],
   "source": [
    "class confluence_connection():\n",
    "    def __init__(self, url: str):\n",
    "        self.url = url\n",
    "\n",
    "    def create_auth(self, auth: str = 'Basic', **kwargs) -> None:\n",
    "        auth = auth.lower()\n",
    "        if auth == 'basic':\n",
    "            try:\n",
    "                passwd = kwargs['password']\n",
    "                username = kwargs['username']\n",
    "            except:\n",
    "                passwd = getpass.getpass('Password for basic http authentication: ')\n",
    "            authentication = (username, passwd)\n",
    "        elif auth == 'token':\n",
    "            try:\n",
    "                authentication = f'Bearer {kwargs[\"api_toekn\"]}'\n",
    "            except:\n",
    "                raise ValueError('Value api_token must be supplied when trying to used token based authentication')\n",
    "                exit(1)\n",
    "        self.auth = authentication  \n",
    "\n",
    "    def generate_cql(self, **kwargs):\n",
    "        query_string = ''\n",
    "        for key, value in kwargs.items():\n",
    "            query_string += f'{key}=\\\"{value}\\\"+and+'.replace(' ', '+')\n",
    "        query_string = query_string.strip('+and')\n",
    "        return query_string\n",
    "            \n",
    "    def package_cql(self, **kwargs):\n",
    "        api_string = f'{self.url}/api/content/search'\n",
    "        search_string = self.generate_cql(**kwargs)\n",
    "        api_string += f'/?cql=({search_string})'\n",
    "        return api_string\n",
    "\n",
    "    def find_page_id(self, page_title = 'How-To', space = 'MySpace'):\n",
    "        query_string = {'type' : 'page', 'space' : space, 'title' : page_title}\n",
    "        query_url = self.package_cql(**query_string )\n",
    "        response = requests.get(self.url,  headers = {'Authorization' : self.auth})"
   ]
  },
  {
   "cell_type": "code",
   "execution_count": 4,
   "metadata": {},
   "outputs": [],
   "source": [
    "stringo = package_cql(type = 'page', title = 'any page', space = 'JI')"
   ]
  },
  {
   "cell_type": "code",
   "execution_count": 5,
   "metadata": {},
   "outputs": [
    {
     "name": "stdout",
     "output_type": "stream",
     "text": [
      "http://confluence:9443/api/content/search/?cql=(type=\"page\"+and+title=\"any+page\"+and+space=\"JI\")\n"
     ]
    }
   ],
   "source": [
    "print(stringo)"
   ]
  },
  {
   "cell_type": "code",
   "execution_count": 3,
   "metadata": {},
   "outputs": [
    {
     "name": "stdout",
     "output_type": "stream",
     "text": [
      "<class 'tuple'>\n",
      "<class 'tuple'>\n",
      "<class 'tuple'>\n"
     ]
    }
   ],
   "source": [
    "args = {'a': 1, 'b': 2, 'c': 3}\n",
    "#help(dict)\n",
    "#for key, value in args.items():\n",
    "#    print(type())\n",
    "for kvp in args.items():\n",
    "    print(type(kvp))"
   ]
  },
  {
   "cell_type": "code",
   "execution_count": 7,
   "metadata": {},
   "outputs": [
    {
     "name": "stdout",
     "output_type": "stream",
     "text": [
      "test\n"
     ]
    }
   ],
   "source": [
    "jclass myclass():\n",
    "    def __init__(self, url):\n",
    "        self.url = url\n",
    "\n",
    "mc = myclass(url = 'test')\n",
    "print(mc.url)"
   ]
  },
  {
   "cell_type": "code",
   "execution_count": 14,
   "metadata": {},
   "outputs": [
    {
     "name": "stdout",
     "output_type": "stream",
     "text": [
      "1 2 3\n"
     ]
    }
   ],
   "source": [
    "x = [1,2,3]\n",
    "print(*x)"
   ]
  },
  {
   "cell_type": "code",
   "execution_count": null,
   "metadata": {},
   "outputs": [],
   "source": []
  }
 ],
 "metadata": {
  "kernelspec": {
   "display_name": "Python 3",
   "language": "python",
   "name": "python3"
  },
  "language_info": {
   "codemirror_mode": {
    "name": "ipython",
    "version": 3
   },
   "file_extension": ".py",
   "mimetype": "text/x-python",
   "name": "python",
   "nbconvert_exporter": "python",
   "pygments_lexer": "ipython3",
   "version": "3.9.16"
  },
  "orig_nbformat": 4,
  "vscode": {
   "interpreter": {
    "hash": "6e5ff1f42187c785f96509ab8359de136089755a3bbf2a06995080c4b5fa1cab"
   }
  }
 },
 "nbformat": 4,
 "nbformat_minor": 2
}
