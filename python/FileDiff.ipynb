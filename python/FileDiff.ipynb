{
 "cells": [
  {
   "cell_type": "code",
   "execution_count": 1,
   "metadata": {},
   "outputs": [],
   "source": [
    "import os\n",
    "import re\n",
    "import hashlib\n",
    "import json\n",
    "import yaml"
   ]
  },
  {
   "cell_type": "code",
   "execution_count": null,
   "metadata": {},
   "outputs": [],
   "source": [
    "class FileInfo():\n",
    "    def __init__(self, filepath):\n",
    "        self.__path = filepath \n",
    "        self.__filename = os.path.basename(filepath)\n",
    "        self.__location = os.path.dirname(filepath)\n",
    "        self.__fullpath = os.path.join(self.__location, self.__filename)\n",
    "        self.__stat = os.stat(filepath)\n",
    "\n",
    "    def hash_self(self):\n",
    "        with open(self.filepath, 'r') as file:\n",
    "            sha = hashlib.sha256()\n",
    "            while True:\n",
    "                buff = file.read(32000)\n",
    "                if not buff:\n",
    "                    break\n",
    "                else:\n",
    "                    sha.update(buff)\n",
    "        self.__sha = sha.hexdigest()\n",
    "\n",
    "    @property\n",
    "    def hash(self):\n",
    "        return self.__sha\n",
    "\n",
    "\n",
    "        \n"
   ]
  },
  {
   "cell_type": "code",
   "execution_count": 3,
   "metadata": {},
   "outputs": [],
   "source": [
    "\n",
    "\n",
    "\n",
    "\n",
    "\n",
    "class FileDiff():\n",
    "    def __init__(self):\n",
    "        pass"
   ]
  },
  {
   "cell_type": "code",
   "execution_count": null,
   "metadata": {},
   "outputs": [],
   "source": []
  }
 ],
 "metadata": {
  "kernelspec": {
   "display_name": "Python 3",
   "language": "python",
   "name": "python3"
  },
  "language_info": {
   "codemirror_mode": {
    "name": "ipython",
    "version": 3
   },
   "file_extension": ".py",
   "mimetype": "text/x-python",
   "name": "python",
   "nbconvert_exporter": "python",
   "pygments_lexer": "ipython3",
   "version": "3.9.16"
  },
  "orig_nbformat": 4,
  "vscode": {
   "interpreter": {
    "hash": "6e5ff1f42187c785f96509ab8359de136089755a3bbf2a06995080c4b5fa1cab"
   }
  }
 },
 "nbformat": 4,
 "nbformat_minor": 2
}
