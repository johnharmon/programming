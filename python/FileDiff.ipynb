{
 "cells": [
  {
   "cell_type": "code",
   "execution_count": 1,
   "metadata": {},
   "outputs": [],
   "source": [
    "import os\n",
    "import re\n",
    "import hashlib\n",
    "import json\n",
    "import yaml"
   ]
  },
  {
   "cell_type": "code",
   "execution_count": null,
   "metadata": {},
   "outputs": [],
   "source": [
    "class FileInfo():\n",
    "    def __to_dict__(self):\n",
    "        self._dict = {}\n",
    "        self._dict['filename'] = self.filename\n",
    "        self._dict['location'] = self.location\n",
    "        self._dict['fullpath'] = self.fullpath\n",
    "        self._dict['sha'] = self.__sha\n",
    "        self._dict['stat'] = dict()\n",
    "        for attribute in self.stat.__dir__():\n",
    "            if attribute[0:3] == 'st_':\n",
    "                self._dict['stat'][attribute] = self.stat.attribute\n",
    "\n",
    "    def __init__(self, filepath: str = None, jsonfile: str = None):\n",
    "        if filepath:\n",
    "            self.path = filepath \n",
    "            self.filename = os.path.basename(filepath)\n",
    "            self.location = os.path.dirname(filepath)\n",
    "            self.fullpath = os.path.join(self.__location, self.__filename)\n",
    "            self.stat = os.stat(filepath)\n",
    "            self.__to_dict__()\n",
    "\n",
    "        elif jsonfile:\n",
    "            if os.stat.exists(jsonfile):\n",
    "                self.json = json.loads(jsonfile)\n",
    "                for key in self.__json.keys():\n",
    "                    self.key = self.json[key]\n",
    "\n",
    "    def __repr__(self):\n",
    "        return self._dict\n",
    "\n",
    "    def ___json__(self):\n",
    "        return json.dumps(self.__repr__())\n",
    "\n",
    "    def hash_self(self):\n",
    "        with open(self.filepath, 'r') as file:\n",
    "            sha = hashlib.sha256()\n",
    "            while True:\n",
    "                buff = file.read(32000)\n",
    "                if not buff:\n",
    "                    break\n",
    "                else:\n",
    "                    sha.update(buff)\n",
    "        self.__sha = sha.hexdigest()\n",
    "\n",
    "    @property\n",
    "    def hash(self):\n",
    "        return self.__sha\n"
   ]
  },
  {
   "cell_type": "code",
   "execution_count": 3,
   "metadata": {},
   "outputs": [],
   "source": [
    "class FileDiff():\n",
    "    def __init__(self):\n",
    "        pass"
   ]
  },
  {
   "cell_type": "code",
   "execution_count": 2,
   "metadata": {},
   "outputs": [],
   "source": [
    "#response = requests.get(url = f'https://confluence:9443/rest/api/content/search/?cql=(type=\"page\"+and+space=\"JI\"+and+title=\"Audex+Results\")', headers = {\"Authorization\": f\"Bearer {token}\", 'Content-Type': 'application/json'})"
   ]
  },
  {
   "cell_type": "code",
   "execution_count": 4,
   "metadata": {},
   "outputs": [
    {
     "name": "stdout",
     "output_type": "stream",
     "text": [
      "Help on method_descriptor:\n",
      "\n",
      "strip(self, chars=None, /)\n",
      "    Return a copy of the string with leading and trailing whitespace removed.\n",
      "    \n",
      "    If chars is given and not None, remove characters in chars instead.\n",
      "\n"
     ]
    }
   ],
   "source": [
    "help(str.strip)"
   ]
  },
  {
   "cell_type": "code",
   "execution_count": null,
   "metadata": {},
   "outputs": [],
   "source": []
  }
 ],
 "metadata": {
  "kernelspec": {
   "display_name": "Python 3",
   "language": "python",
   "name": "python3"
  },
  "language_info": {
   "codemirror_mode": {
    "name": "ipython",
    "version": 3
   },
   "file_extension": ".py",
   "mimetype": "text/x-python",
   "name": "python",
   "nbconvert_exporter": "python",
   "pygments_lexer": "ipython3",
   "version": "3.9.16"
  },
  "orig_nbformat": 4,
  "vscode": {
   "interpreter": {
    "hash": "6e5ff1f42187c785f96509ab8359de136089755a3bbf2a06995080c4b5fa1cab"
   }
  }
 },
 "nbformat": 4,
 "nbformat_minor": 2
}
