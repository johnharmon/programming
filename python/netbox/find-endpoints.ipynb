{
 "cells": [
  {
   "cell_type": "code",
   "execution_count": 1,
   "metadata": {},
   "outputs": [
    {
     "name": "stdout",
     "output_type": "stream",
     "text": [
      "EndpointNode('/api_root', description=None, endpoint='api', fields=None, method='GET', url='http://cms01.mydomain.com:8000/api/')\n"
     ]
    }
   ],
   "source": [
    "import requests\n",
    "import math\n",
    "import sys \n",
    "from anytree import Node, RenderTree, search \n",
    "import time\n",
    "\n",
    "class EndpointNode(Node):\n",
    "    def __init__(self, name, parent=None, children=None, **kwargs):\n",
    "        super().__init__(name, parent, children)\n",
    "        self.url = kwargs.get('url', None)\n",
    "        self.endpoint = kwargs.get('endpoint', None)\n",
    "        self.method = kwargs.get('method', 'GET')\n",
    "        self.description = kwargs.get('description', None)\n",
    "        self.fields = kwargs.get('fields', None)\n",
    "\n",
    "def build_api_tree(mynode, headers):\n",
    "    #time.sleep(.1)\n",
    "    #print(mynode)\n",
    "    child_urls = get_api_endpoints(mynode.url, headers)\n",
    "    if child_urls:\n",
    "        for endpoint, url in child_urls.items():\n",
    "            if not url or type(url) is not str or endpoint == 'content-types' or endpoint == 'status':\n",
    "                continue\n",
    "            else:\n",
    "                #print(f'Endpoint: {endpoint} URL: {url}')\n",
    "                new_node = EndpointNode(name = f'{mynode.name}/{endpoint}',  url = url, parent=mynode, endpoint=endpoint)\n",
    "                build_api_tree(new_node,headers)\n",
    "\n",
    "def get_api_endpoints(url, headers):\n",
    "    response = requests.get(url, headers=headers)\n",
    "    if response.status_code == 200:\n",
    "        return response.json()\n",
    "    else:\n",
    "        return None\n",
    "    \n",
    "def find_leaves(node):\n",
    "    return [leaf for leaf in node.leaves]\n",
    "\n",
    "def main():\n",
    "    endpoint_struct = {}\n",
    "    auth = f'Token 469f759c2e50ca1c998066fbd2ea360518ef7629'\n",
    "    url = \"http://cms01.mydomain.com:8000/api/\"  # replace with your Netbox API URL\n",
    "    headers = {\"Authorization\": auth}  # replace with your API token\n",
    "    endpoints = get_api_endpoints(url, headers)\n",
    "    api_root = EndpointNode('api_root', url=url, endpoint='api')\n",
    "    build_api_tree(api_root, headers)\n",
    "    print(api_root)\n",
    "    leaves = find_leaves(api_root)\n",
    "    unique_leaves = set(leaves)\n",
    "\n",
    "    if len(leaves) != len(unique_leaves):\n",
    "        print(\"Duplicate leaves found!\")\n",
    "    else:\n",
    "        print('All leaves are unique')\n",
    "\n",
    "    leaf = search.find(api_root, lambda node: node.endpoint == 'cluster-groups')\n",
    "    print(leaf.url)\n",
    "    return api_root\n",
    "\n",
    "if __name__ == \"__main__\":\n",
    "    api_root = main()"
   ]
  },
  {
   "cell_type": "code",
   "execution_count": 17,
   "metadata": {},
   "outputs": [
    {
     "name": "stdout",
     "output_type": "stream",
     "text": [
      "api_root\n",
      "├── api_root/circuits\n",
      "│   ├── api_root/circuits/circuit-terminations\n",
      "│   ├── api_root/circuits/circuit-types\n",
      "│   ├── api_root/circuits/circuits\n",
      "│   ├── api_root/circuits/provider-accounts\n",
      "│   ├── api_root/circuits/provider-networks\n",
      "│   └── api_root/circuits/providers\n",
      "├── api_root/core\n",
      "│   ├── api_root/core/data-files\n",
      "│   ├── api_root/core/data-sources\n",
      "│   └── api_root/core/jobs\n",
      "├── api_root/dcim\n",
      "│   ├── api_root/dcim/cable-terminations\n",
      "│   ├── api_root/dcim/cables\n",
      "│   ├── api_root/dcim/connected-device\n",
      "│   ├── api_root/dcim/console-port-templates\n",
      "│   ├── api_root/dcim/console-ports\n",
      "│   ├── api_root/dcim/console-server-port-templates\n",
      "│   ├── api_root/dcim/console-server-ports\n",
      "│   ├── api_root/dcim/device-bay-templates\n",
      "│   ├── api_root/dcim/device-bays\n",
      "│   ├── api_root/dcim/device-roles\n",
      "│   ├── api_root/dcim/device-types\n",
      "│   ├── api_root/dcim/devices\n",
      "│   ├── api_root/dcim/front-port-templates\n",
      "│   ├── api_root/dcim/front-ports\n",
      "│   ├── api_root/dcim/interface-templates\n",
      "│   ├── api_root/dcim/interfaces\n",
      "│   ├── api_root/dcim/inventory-item-roles\n",
      "│   ├── api_root/dcim/inventory-item-templates\n",
      "│   ├── api_root/dcim/inventory-items\n",
      "│   ├── api_root/dcim/locations\n",
      "│   ├── api_root/dcim/manufacturers\n",
      "│   ├── api_root/dcim/module-bay-templates\n",
      "│   ├── api_root/dcim/module-bays\n",
      "│   ├── api_root/dcim/module-types\n",
      "│   ├── api_root/dcim/modules\n",
      "│   ├── api_root/dcim/platforms\n",
      "│   ├── api_root/dcim/power-feeds\n",
      "│   ├── api_root/dcim/power-outlet-templates\n",
      "│   ├── api_root/dcim/power-outlets\n",
      "│   ├── api_root/dcim/power-panels\n",
      "│   ├── api_root/dcim/power-port-templates\n",
      "│   ├── api_root/dcim/power-ports\n",
      "│   ├── api_root/dcim/rack-reservations\n",
      "│   ├── api_root/dcim/rack-roles\n",
      "│   ├── api_root/dcim/racks\n",
      "│   ├── api_root/dcim/rear-port-templates\n",
      "│   ├── api_root/dcim/rear-ports\n",
      "│   ├── api_root/dcim/regions\n",
      "│   ├── api_root/dcim/site-groups\n",
      "│   ├── api_root/dcim/sites\n",
      "│   ├── api_root/dcim/virtual-chassis\n",
      "│   └── api_root/dcim/virtual-device-contexts\n",
      "├── api_root/extras\n",
      "│   ├── api_root/extras/bookmarks\n",
      "│   ├── api_root/extras/config-contexts\n",
      "│   ├── api_root/extras/config-templates\n",
      "│   ├── api_root/extras/custom-field-choice-sets\n",
      "│   ├── api_root/extras/custom-fields\n",
      "│   ├── api_root/extras/custom-links\n",
      "│   ├── api_root/extras/export-templates\n",
      "│   ├── api_root/extras/image-attachments\n",
      "│   ├── api_root/extras/journal-entries\n",
      "│   ├── api_root/extras/object-changes\n",
      "│   ├── api_root/extras/reports\n",
      "│   ├── api_root/extras/saved-filters\n",
      "│   ├── api_root/extras/scripts\n",
      "│   ├── api_root/extras/tags\n",
      "│   └── api_root/extras/webhooks\n",
      "├── api_root/ipam\n",
      "│   ├── api_root/ipam/aggregates\n",
      "│   ├── api_root/ipam/asn-ranges\n",
      "│   ├── api_root/ipam/asns\n",
      "│   ├── api_root/ipam/fhrp-group-assignments\n",
      "│   ├── api_root/ipam/fhrp-groups\n",
      "│   ├── api_root/ipam/ip-addresses\n",
      "│   ├── api_root/ipam/ip-ranges\n",
      "│   ├── api_root/ipam/l2vpn-terminations\n",
      "│   ├── api_root/ipam/l2vpns\n",
      "│   ├── api_root/ipam/prefixes\n",
      "│   ├── api_root/ipam/rirs\n",
      "│   ├── api_root/ipam/roles\n",
      "│   ├── api_root/ipam/route-targets\n",
      "│   ├── api_root/ipam/service-templates\n",
      "│   ├── api_root/ipam/services\n",
      "│   ├── api_root/ipam/vlan-groups\n",
      "│   ├── api_root/ipam/vlans\n",
      "│   └── api_root/ipam/vrfs\n",
      "├── api_root/plugins\n",
      "│   └── api_root/plugins/installed-plugins\n",
      "├── api_root/tenancy\n",
      "│   ├── api_root/tenancy/contact-assignments\n",
      "│   ├── api_root/tenancy/contact-groups\n",
      "│   ├── api_root/tenancy/contact-roles\n",
      "│   ├── api_root/tenancy/contacts\n",
      "│   ├── api_root/tenancy/tenant-groups\n",
      "│   └── api_root/tenancy/tenants\n",
      "├── api_root/users\n",
      "│   ├── api_root/users/config\n",
      "│   ├── api_root/users/groups\n",
      "│   ├── api_root/users/permissions\n",
      "│   ├── api_root/users/tokens\n",
      "│   └── api_root/users/users\n",
      "├── api_root/virtualization\n",
      "│   ├── api_root/virtualization/cluster-groups\n",
      "│   ├── api_root/virtualization/cluster-types\n",
      "│   ├── api_root/virtualization/clusters\n",
      "│   ├── api_root/virtualization/interfaces\n",
      "│   └── api_root/virtualization/virtual-machines\n",
      "└── api_root/wireless\n",
      "    ├── api_root/wireless/wireless-lan-groups\n",
      "    ├── api_root/wireless/wireless-lans\n",
      "    └── api_root/wireless/wireless-links\n"
     ]
    }
   ],
   "source": [
    "for pre, fill, node in RenderTree(api_root):\n",
    "    print(\"%s%s\" % (pre, node.name))"
   ]
  },
  {
   "cell_type": "code",
   "execution_count": 30,
   "metadata": {},
   "outputs": [
    {
     "name": "stdout",
     "output_type": "stream",
     "text": [
      "All leaves are unique\n",
      "http://cms01.mydomain.com:8000/api/virtualization/cluster-groups/\n"
     ]
    }
   ],
   "source": [
    "leaves = find_leaves(api_root)\n",
    "unique_leaves = set(leaves)\n",
    "\n",
    "if len(leaves) != len(unique_leaves):\n",
    "    print(\"Duplicate leaves found!\")\n",
    "else:\n",
    "    print('All leaves are unique')\n",
    "\n",
    "leaf = search.find(api_root, lambda node: node.endpoint == 'cluster-groups')\n",
    "print(leaf.url)\n"
   ]
  },
  {
   "cell_type": "code",
   "execution_count": 11,
   "metadata": {},
   "outputs": [
    {
     "name": "stdout",
     "output_type": "stream",
     "text": [
      "3.1416\n",
      "EndpointNode('/api_root', description=None, endpoint='api', fields=None, method='GET', url='http://cms01.mydomain.com:8000/api/')\n"
     ]
    }
   ],
   "source": [
    "my_num = f'{math.pi:.4f}'\n",
    "print(my_num)\n",
    "print(api_root)"
   ]
  },
  {
   "cell_type": "code",
   "execution_count": 12,
   "metadata": {},
   "outputs": [
    {
     "name": "stdout",
     "output_type": "stream",
     "text": [
      "(EndpointNode('/api_root/api_root/circuits', description=None, endpoint='circuits', fields=None, method='GET', url='http://cms01.mydomain.com:8000/api/circuits/'), EndpointNode('/api_root/api_root/core', description=None, endpoint='core', fields=None, method='GET', url='http://cms01.mydomain.com:8000/api/core/'), EndpointNode('/api_root/api_root/dcim', description=None, endpoint='dcim', fields=None, method='GET', url='http://cms01.mydomain.com:8000/api/dcim/'), EndpointNode('/api_root/api_root/extras', description=None, endpoint='extras', fields=None, method='GET', url='http://cms01.mydomain.com:8000/api/extras/'), EndpointNode('/api_root/api_root/ipam', description=None, endpoint='ipam', fields=None, method='GET', url='http://cms01.mydomain.com:8000/api/ipam/'), EndpointNode('/api_root/api_root/plugins', description=None, endpoint='plugins', fields=None, method='GET', url='http://cms01.mydomain.com:8000/api/plugins/'), EndpointNode('/api_root/api_root/tenancy', description=None, endpoint='tenancy', fields=None, method='GET', url='http://cms01.mydomain.com:8000/api/tenancy/'), EndpointNode('/api_root/api_root/users', description=None, endpoint='users', fields=None, method='GET', url='http://cms01.mydomain.com:8000/api/users/'), EndpointNode('/api_root/api_root/virtualization', description=None, endpoint='virtualization', fields=None, method='GET', url='http://cms01.mydomain.com:8000/api/virtualization/'), EndpointNode('/api_root/api_root/wireless', description=None, endpoint='wireless', fields=None, method='GET', url='http://cms01.mydomain.com:8000/api/wireless/'))\n"
     ]
    }
   ],
   "source": [
    "print(api_root.children)"
   ]
  },
  {
   "cell_type": "code",
   "execution_count": null,
   "metadata": {},
   "outputs": [],
   "source": []
  }
 ],
 "metadata": {
  "kernelspec": {
   "display_name": "Python 3",
   "language": "python",
   "name": "python3"
  },
  "language_info": {
   "codemirror_mode": {
    "name": "ipython",
    "version": 3
   },
   "file_extension": ".py",
   "mimetype": "text/x-python",
   "name": "python",
   "nbconvert_exporter": "python",
   "pygments_lexer": "ipython3",
   "version": "3.9.16"
  }
 },
 "nbformat": 4,
 "nbformat_minor": 2
}
